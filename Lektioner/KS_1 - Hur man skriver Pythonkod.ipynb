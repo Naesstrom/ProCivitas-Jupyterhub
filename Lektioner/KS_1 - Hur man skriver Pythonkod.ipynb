{
 "cells": [
  {
   "cell_type": "markdown",
   "metadata": {},
   "source": [
    "### Kommentarer\n",
    "Man kan kommentera sin kod genom att börja skriva #\n",
    "\n",
    "`# denna kod är en kommentar`\n",
    "\n",
    "### Indentering\n",
    "Kur koden är indenterad, alltså hur mycket mellanrum det är i början på en ny rad, påverkar hur datorn tolkar koden.\n",
    "\n",
    "print(\"hej\")\n",
    "\n",
    "    print(\"hopp\")\n",
    "\n",
    "Är alltså inte detsamma som\n",
    "```\n",
    "print(\"hej\")\n",
    "\n",
    "print(\"hopp\")\n",
    "```\n",
    "### Variabler\n",
    "För att datorn ska kunna lagra information används variabler. En variabler har ett namn och innehåller en viss typ av information. Om jag vill skapa en variabel med namnet min_alder och lagra heltalet 27 i den,  skriver jag:\n",
    "\n",
    "`min_alder = 27`\n",
    "\n",
    "Jag kan sedan uppdatera värdet som lagras i denna variabel hur många gånger jag vill. Vill jag sedan använda informationen jag lagrat i min_alder för att exempelvis skriva ut denna på skärmen, skriver jag:\n",
    "\n",
    "`print(min_alder)`\n",
    "\n",
    "### Datatyper\n",
    "Olika typer av information kan lagras i variabler. Fyra vanliga typer är:\n",
    "\n",
    "* Heltal - Även känt som integer eller int - Exempel: 27\n",
    "* Decimaltal - Även kallat float, och skrivs med decimalpunkt - Exempel: 0.67\n",
    "* Textsträngar - Även kallade string och skrivs omslutna av citationstecken -  Exempel: \"snabbkaffe\"\n",
    "* Booleaner - Eller booleans på engelska, är en datatyp som endast kan ha ett av två tillstånd, True eller False - Exempel: True\n",
    "### Aritmetiska operatorer\n",
    "I python fungerar vanliga aritmetiska operatorer som man kan förvänta sig och de skrivs på följande sätt:\n",
    "\n",
    "* Addition: +\n",
    "* Subtraktion: -\n",
    "* Multiplikation: *\n",
    "* Division: /\n",
    "* Exponent: **\n",
    "* Heltalsdivision: //\n",
    "* Rest vid heltalsdivision, även kallat modulo: %\n",
    "\n",
    "### Uppgift\n",
    "Denna veckas uppgift handlar om att färdigställa ett program som ska räkna ut totalnotan för ett restaurangbesök. Posterna är följande:\n",
    "\n",
    "* Pris för måltid:  109.90\n",
    "* Moms: 6,75%\n",
    "* Dricks: 15%\n",
    "Byt ut frågetecknen i koden nedan mot siffror, variabler och operatorer, så att programmet räknar ut totalbeloppet för pris inklusive moms, samt dricks på hela produkten."
   ]
  },
  {
   "cell_type": "code",
   "execution_count": 1,
   "metadata": {},
   "outputs": [
    {
     "ename": "SyntaxError",
     "evalue": "invalid syntax (<ipython-input-1-73a30f1bd504>, line 5)",
     "output_type": "error",
     "traceback": [
      "\u001b[0;36m  File \u001b[0;32m\"<ipython-input-1-73a30f1bd504>\"\u001b[0;36m, line \u001b[0;32m5\u001b[0m\n\u001b[0;31m    mat = ???.??\u001b[0m\n\u001b[0m          ^\u001b[0m\n\u001b[0;31mSyntaxError\u001b[0m\u001b[0;31m:\u001b[0m invalid syntax\n"
     ]
    }
   ],
   "source": [
    "# Här är ett halvfärdigt program som ska räkna ut en restaurangnota med moms och dricks\n",
    "# Ersätt alla frågetecken så att programmet stämmer\n",
    "\n",
    "# Skapa variabler med korrekta värden\n",
    "mat = ???.??\n",
    "moms = 0.0???\n",
    "dricks = 0.??\n",
    "\n",
    "# Räkna ut priset för mat inkl moms\n",
    "subtotal = mat + ??? * ???\n",
    "\n",
    "# Räkna ut priset inkl dricks\n",
    "total = subtotal ? subtotal ? dricks\n",
    "\n",
    "# Skriv ut totalbeloppet med 2 decimaler\n",
    "print(\"Vi ska betala %0.2f SEK\" % (total))\n"
   ]
  }
 ],
 "metadata": {
  "kernelspec": {
   "display_name": "Python 3",
   "language": "python",
   "name": "python3"
  },
  "language_info": {
   "codemirror_mode": {
    "name": "ipython",
    "version": 3
   },
   "file_extension": ".py",
   "mimetype": "text/x-python",
   "name": "python",
   "nbconvert_exporter": "python",
   "pygments_lexer": "ipython3",
   "version": "3.6.5"
  }
 },
 "nbformat": 4,
 "nbformat_minor": 2
}
