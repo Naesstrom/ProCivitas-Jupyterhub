{
 "cells": [
  {
   "cell_type": "code",
   "execution_count": 1,
   "metadata": {},
   "outputs": [
    {
     "name": "stdout",
     "output_type": "stream",
     "text": [
      "Vi ska betala 134.92 SEK\n"
     ]
    }
   ],
   "source": [
    "# Här är ett halvfärdigt program som ska räkna ut en restaurangnota med moms och dricks\n",
    "# Ersätt alla frågetecken så att programmet stämmer\n",
    "\n",
    "# Skapa variabler med korrekta värden\n",
    "mat = 109.90\n",
    "moms = 0.0675\n",
    "dricks = 0.15\n",
    "\n",
    "# Räkna ut priset för mat inkl moms\n",
    "subtotal = mat + mat * moms\n",
    "\n",
    "# Räkna ut priset inkl dricks\n",
    "total = subtotal + subtotal * dricks\n",
    "\n",
    "# Skriv ut totalbeloppet med 2 decimaler\n",
    "print(\"Vi ska betala %0.2f SEK\" % (total))\n"
   ]
  },
  {
   "cell_type": "code",
   "execution_count": null,
   "metadata": {
    "collapsed": true
   },
   "outputs": [],
   "source": []
  }
 ],
 "metadata": {
  "kernelspec": {
   "display_name": "Python 3",
   "language": "python",
   "name": "python3"
  },
  "language_info": {
   "codemirror_mode": {
    "name": "ipython",
    "version": 3
   },
   "file_extension": ".py",
   "mimetype": "text/x-python",
   "name": "python",
   "nbconvert_exporter": "python",
   "pygments_lexer": "ipython3",
   "version": "3.6.3"
  }
 },
 "nbformat": 4,
 "nbformat_minor": 2
}
